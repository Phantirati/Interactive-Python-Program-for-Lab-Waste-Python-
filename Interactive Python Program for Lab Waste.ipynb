{
  "cells": [
    {
      "cell_type": "code",
      "execution_count": 2,
      "metadata": {
        "colab": {
          "base_uri": "https://localhost:8080/"
        },
        "id": "n1-bdeV97uXq",
        "outputId": "ab696af9-0d57-4301-9d14-75b258bc8070"
      },
      "outputs": [
        {
          "output_type": "stream",
          "name": "stdout",
          "text": [
            "Collecting rdkit\n",
            "  Downloading rdkit-2024.9.6-cp311-cp311-manylinux_2_28_x86_64.whl.metadata (4.0 kB)\n",
            "Requirement already satisfied: numpy in /usr/local/lib/python3.11/dist-packages (from rdkit) (1.26.4)\n",
            "Requirement already satisfied: Pillow in /usr/local/lib/python3.11/dist-packages (from rdkit) (11.1.0)\n",
            "Downloading rdkit-2024.9.6-cp311-cp311-manylinux_2_28_x86_64.whl (34.3 MB)\n",
            "\u001b[2K   \u001b[90m━━━━━━━━━━━━━━━━━━━━━━━━━━━━━━━━━━━━━━━━\u001b[0m \u001b[32m34.3/34.3 MB\u001b[0m \u001b[31m39.5 MB/s\u001b[0m eta \u001b[36m0:00:00\u001b[0m\n",
            "\u001b[?25hInstalling collected packages: rdkit\n",
            "Successfully installed rdkit-2024.9.6\n"
          ]
        }
      ],
      "source": [
        "pip install rdkit"
      ]
    },
    {
      "cell_type": "code",
      "execution_count": 3,
      "metadata": {
        "colab": {
          "base_uri": "https://localhost:8080/"
        },
        "id": "BeYT5pmZ8R9R",
        "outputId": "a8e6607b-97f8-478b-f659-3c658830f074"
      },
      "outputs": [
        {
          "output_type": "stream",
          "name": "stdout",
          "text": [
            "Collecting py3Dmol\n",
            "  Downloading py3Dmol-2.4.2-py2.py3-none-any.whl.metadata (1.9 kB)\n",
            "Downloading py3Dmol-2.4.2-py2.py3-none-any.whl (7.0 kB)\n",
            "Installing collected packages: py3Dmol\n",
            "Successfully installed py3Dmol-2.4.2\n"
          ]
        }
      ],
      "source": [
        "pip install py3Dmol"
      ]
    },
    {
      "cell_type": "code",
      "execution_count": 4,
      "metadata": {
        "colab": {
          "base_uri": "https://localhost:8080/",
          "height": 1000
        },
        "id": "xsmc2q6H4w-W",
        "outputId": "986e1bcc-0a6d-4f1a-b8f1-9a957a6ba4fe"
      },
      "outputs": [
        {
          "output_type": "stream",
          "name": "stdout",
          "text": [
            "\n",
            "🔬 กรอกสูตรเคมี SMILES (หรือ 'exit' เพื่อออก): O\n",
            "🔬 ชื่อสาร: Water\n",
            "💧 การละลายน้ำ: 1000.0 g/L\n",
            "⚖️ ค่า pKa: 15.7\n",
            "🗑️ ประเภทของเสีย: Non-hazardous chemicals\n",
            "⚠️ วิธีการกำจัด: Can be disposed of in the drain\n",
            "✅ สามารถกำจัดสารนี้ได้ตามขั้นตอนที่เหมาะสม\n"
          ]
        },
        {
          "output_type": "display_data",
          "data": {
            "application/3dmoljs_load.v0": "<div id=\"3dmolviewer_1742058276781507\"  style=\"position: relative; width: 400px; height: 400px;\">\n        <p id=\"3dmolwarning_1742058276781507\" style=\"background-color:#ffcccc;color:black\">3Dmol.js failed to load for some reason.  Please check your browser console for error messages.<br></p>\n        </div>\n<script>\n\nvar loadScriptAsync = function(uri){\n  return new Promise((resolve, reject) => {\n    //this is to ignore the existence of requirejs amd\n    var savedexports, savedmodule;\n    if (typeof exports !== 'undefined') savedexports = exports;\n    else exports = {}\n    if (typeof module !== 'undefined') savedmodule = module;\n    else module = {}\n\n    var tag = document.createElement('script');\n    tag.src = uri;\n    tag.async = true;\n    tag.onload = () => {\n        exports = savedexports;\n        module = savedmodule;\n        resolve();\n    };\n  var firstScriptTag = document.getElementsByTagName('script')[0];\n  firstScriptTag.parentNode.insertBefore(tag, firstScriptTag);\n});\n};\n\nif(typeof $3Dmolpromise === 'undefined') {\n$3Dmolpromise = null;\n  $3Dmolpromise = loadScriptAsync('https://cdnjs.cloudflare.com/ajax/libs/3Dmol/2.4.2/3Dmol-min.js');\n}\n\nvar viewer_1742058276781507 = null;\nvar warn = document.getElementById(\"3dmolwarning_1742058276781507\");\nif(warn) {\n    warn.parentNode.removeChild(warn);\n}\n$3Dmolpromise.then(function() {\nviewer_1742058276781507 = $3Dmol.createViewer(document.getElementById(\"3dmolviewer_1742058276781507\"),{backgroundColor:\"white\"});\nviewer_1742058276781507.zoomTo();\n\tviewer_1742058276781507.addModel(\"\\n     RDKit          3D\\n\\n  3  2  0  0  0  0  0  0  0  0999 V2000\\n   -0.0057    0.3852   -0.0000 O   0  0  0  0  0  0  0  0  0  0  0  0\\n   -0.7961   -0.1947   -0.0000 H   0  0  0  0  0  0  0  0  0  0  0  0\\n    0.8018   -0.1905    0.0000 H   0  0  0  0  0  0  0  0  0  0  0  0\\n  1  2  1  0\\n  1  3  1  0\\nM  END\\n\",\"mol\");\n\tviewer_1742058276781507.setStyle({\"stick\": {}, \"sphere\": {\"radius\": 0.3}});\n\tviewer_1742058276781507.zoomTo();\nviewer_1742058276781507.render();\n});\n</script>",
            "text/html": [
              "<div id=\"3dmolviewer_1742058276781507\"  style=\"position: relative; width: 400px; height: 400px;\">\n",
              "        <p id=\"3dmolwarning_1742058276781507\" style=\"background-color:#ffcccc;color:black\">3Dmol.js failed to load for some reason.  Please check your browser console for error messages.<br></p>\n",
              "        </div>\n",
              "<script>\n",
              "\n",
              "var loadScriptAsync = function(uri){\n",
              "  return new Promise((resolve, reject) => {\n",
              "    //this is to ignore the existence of requirejs amd\n",
              "    var savedexports, savedmodule;\n",
              "    if (typeof exports !== 'undefined') savedexports = exports;\n",
              "    else exports = {}\n",
              "    if (typeof module !== 'undefined') savedmodule = module;\n",
              "    else module = {}\n",
              "\n",
              "    var tag = document.createElement('script');\n",
              "    tag.src = uri;\n",
              "    tag.async = true;\n",
              "    tag.onload = () => {\n",
              "        exports = savedexports;\n",
              "        module = savedmodule;\n",
              "        resolve();\n",
              "    };\n",
              "  var firstScriptTag = document.getElementsByTagName('script')[0];\n",
              "  firstScriptTag.parentNode.insertBefore(tag, firstScriptTag);\n",
              "});\n",
              "};\n",
              "\n",
              "if(typeof $3Dmolpromise === 'undefined') {\n",
              "$3Dmolpromise = null;\n",
              "  $3Dmolpromise = loadScriptAsync('https://cdnjs.cloudflare.com/ajax/libs/3Dmol/2.4.2/3Dmol-min.js');\n",
              "}\n",
              "\n",
              "var viewer_1742058276781507 = null;\n",
              "var warn = document.getElementById(\"3dmolwarning_1742058276781507\");\n",
              "if(warn) {\n",
              "    warn.parentNode.removeChild(warn);\n",
              "}\n",
              "$3Dmolpromise.then(function() {\n",
              "viewer_1742058276781507 = $3Dmol.createViewer(document.getElementById(\"3dmolviewer_1742058276781507\"),{backgroundColor:\"white\"});\n",
              "viewer_1742058276781507.zoomTo();\n",
              "\tviewer_1742058276781507.addModel(\"\\n     RDKit          3D\\n\\n  3  2  0  0  0  0  0  0  0  0999 V2000\\n   -0.0057    0.3852   -0.0000 O   0  0  0  0  0  0  0  0  0  0  0  0\\n   -0.7961   -0.1947   -0.0000 H   0  0  0  0  0  0  0  0  0  0  0  0\\n    0.8018   -0.1905    0.0000 H   0  0  0  0  0  0  0  0  0  0  0  0\\n  1  2  1  0\\n  1  3  1  0\\nM  END\\n\",\"mol\");\n",
              "\tviewer_1742058276781507.setStyle({\"stick\": {}, \"sphere\": {\"radius\": 0.3}});\n",
              "\tviewer_1742058276781507.zoomTo();\n",
              "viewer_1742058276781507.render();\n",
              "});\n",
              "</script>"
            ]
          },
          "metadata": {}
        },
        {
          "output_type": "stream",
          "name": "stdout",
          "text": [
            "\n",
            "🔬 กรอกสูตรเคมี SMILES (หรือ 'exit' เพื่อออก): Cl\n",
            "🔬 ชื่อสาร: Hydrochloric Acid\n",
            "💧 การละลายน้ำ: 1000.0 g/L\n",
            "⚖️ ค่า pKa: -6.3\n",
            "🗑️ ประเภทของเสีย: Acidic waste\n",
            "⚠️ วิธีการกำจัด: Should be neutralized with a base and then disposed of\n",
            "🛑 ห้ามทิ้งสารนี้ลงอ่างล้างอุปกรณ์!\n",
            "💡 โปรดปฏิบัติตามแนวทางการกำจัดของเสียอันตรายอย่างถูกต้อง\n"
          ]
        },
        {
          "output_type": "display_data",
          "data": {
            "application/3dmoljs_load.v0": "<div id=\"3dmolviewer_17420583007110467\"  style=\"position: relative; width: 400px; height: 400px;\">\n        <p id=\"3dmolwarning_17420583007110467\" style=\"background-color:#ffcccc;color:black\">3Dmol.js failed to load for some reason.  Please check your browser console for error messages.<br></p>\n        </div>\n<script>\n\nvar loadScriptAsync = function(uri){\n  return new Promise((resolve, reject) => {\n    //this is to ignore the existence of requirejs amd\n    var savedexports, savedmodule;\n    if (typeof exports !== 'undefined') savedexports = exports;\n    else exports = {}\n    if (typeof module !== 'undefined') savedmodule = module;\n    else module = {}\n\n    var tag = document.createElement('script');\n    tag.src = uri;\n    tag.async = true;\n    tag.onload = () => {\n        exports = savedexports;\n        module = savedmodule;\n        resolve();\n    };\n  var firstScriptTag = document.getElementsByTagName('script')[0];\n  firstScriptTag.parentNode.insertBefore(tag, firstScriptTag);\n});\n};\n\nif(typeof $3Dmolpromise === 'undefined') {\n$3Dmolpromise = null;\n  $3Dmolpromise = loadScriptAsync('https://cdnjs.cloudflare.com/ajax/libs/3Dmol/2.4.2/3Dmol-min.js');\n}\n\nvar viewer_17420583007110467 = null;\nvar warn = document.getElementById(\"3dmolwarning_17420583007110467\");\nif(warn) {\n    warn.parentNode.removeChild(warn);\n}\n$3Dmolpromise.then(function() {\nviewer_17420583007110467 = $3Dmol.createViewer(document.getElementById(\"3dmolviewer_17420583007110467\"),{backgroundColor:\"white\"});\nviewer_17420583007110467.zoomTo();\n\tviewer_17420583007110467.addModel(\"\\n     RDKit          3D\\n\\n  2  1  0  0  0  0  0  0  0  0999 V2000\\n    0.6873    0.0000    0.0000 Cl  0  0  0  0  0  0  0  0  0  0  0  0\\n   -0.6873    0.0000    0.0000 H   0  0  0  0  0  0  0  0  0  0  0  0\\n  1  2  1  0\\nM  END\\n\",\"mol\");\n\tviewer_17420583007110467.setStyle({\"stick\": {}, \"sphere\": {\"radius\": 0.3}});\n\tviewer_17420583007110467.zoomTo();\nviewer_17420583007110467.render();\n});\n</script>",
            "text/html": [
              "<div id=\"3dmolviewer_17420583007110467\"  style=\"position: relative; width: 400px; height: 400px;\">\n",
              "        <p id=\"3dmolwarning_17420583007110467\" style=\"background-color:#ffcccc;color:black\">3Dmol.js failed to load for some reason.  Please check your browser console for error messages.<br></p>\n",
              "        </div>\n",
              "<script>\n",
              "\n",
              "var loadScriptAsync = function(uri){\n",
              "  return new Promise((resolve, reject) => {\n",
              "    //this is to ignore the existence of requirejs amd\n",
              "    var savedexports, savedmodule;\n",
              "    if (typeof exports !== 'undefined') savedexports = exports;\n",
              "    else exports = {}\n",
              "    if (typeof module !== 'undefined') savedmodule = module;\n",
              "    else module = {}\n",
              "\n",
              "    var tag = document.createElement('script');\n",
              "    tag.src = uri;\n",
              "    tag.async = true;\n",
              "    tag.onload = () => {\n",
              "        exports = savedexports;\n",
              "        module = savedmodule;\n",
              "        resolve();\n",
              "    };\n",
              "  var firstScriptTag = document.getElementsByTagName('script')[0];\n",
              "  firstScriptTag.parentNode.insertBefore(tag, firstScriptTag);\n",
              "});\n",
              "};\n",
              "\n",
              "if(typeof $3Dmolpromise === 'undefined') {\n",
              "$3Dmolpromise = null;\n",
              "  $3Dmolpromise = loadScriptAsync('https://cdnjs.cloudflare.com/ajax/libs/3Dmol/2.4.2/3Dmol-min.js');\n",
              "}\n",
              "\n",
              "var viewer_17420583007110467 = null;\n",
              "var warn = document.getElementById(\"3dmolwarning_17420583007110467\");\n",
              "if(warn) {\n",
              "    warn.parentNode.removeChild(warn);\n",
              "}\n",
              "$3Dmolpromise.then(function() {\n",
              "viewer_17420583007110467 = $3Dmol.createViewer(document.getElementById(\"3dmolviewer_17420583007110467\"),{backgroundColor:\"white\"});\n",
              "viewer_17420583007110467.zoomTo();\n",
              "\tviewer_17420583007110467.addModel(\"\\n     RDKit          3D\\n\\n  2  1  0  0  0  0  0  0  0  0999 V2000\\n    0.6873    0.0000    0.0000 Cl  0  0  0  0  0  0  0  0  0  0  0  0\\n   -0.6873    0.0000    0.0000 H   0  0  0  0  0  0  0  0  0  0  0  0\\n  1  2  1  0\\nM  END\\n\",\"mol\");\n",
              "\tviewer_17420583007110467.setStyle({\"stick\": {}, \"sphere\": {\"radius\": 0.3}});\n",
              "\tviewer_17420583007110467.zoomTo();\n",
              "viewer_17420583007110467.render();\n",
              "});\n",
              "</script>"
            ]
          },
          "metadata": {}
        },
        {
          "output_type": "stream",
          "name": "stdout",
          "text": [
            "\n",
            "🔬 กรอกสูตรเคมี SMILES (หรือ 'exit' เพื่อออก): C1=CC=C(C=C1)O\n",
            "🔬 ชื่อสาร: Phenol\n",
            "💧 การละลายน้ำ: 8.3 g/L\n",
            "⚖️ ค่า pKa: 9.95\n",
            "🗑️ ประเภทของเสีย: Non-biodegradable organic waste\n",
            "⚠️ วิธีการกำจัด: Should be disposed of by authorized services, such as wastewater treatment plants, waste incineration facilities, waste separation plants, or landfills\n",
            "🛑 ห้ามทิ้งสารนี้ลงอ่างล้างอุปกรณ์!\n",
            "💡 โปรดปฏิบัติตามแนวทางการกำจัดของเสียอันตรายอย่างถูกต้อง\n"
          ]
        },
        {
          "output_type": "display_data",
          "data": {
            "application/3dmoljs_load.v0": "<div id=\"3dmolviewer_17420583202099125\"  style=\"position: relative; width: 400px; height: 400px;\">\n        <p id=\"3dmolwarning_17420583202099125\" style=\"background-color:#ffcccc;color:black\">3Dmol.js failed to load for some reason.  Please check your browser console for error messages.<br></p>\n        </div>\n<script>\n\nvar loadScriptAsync = function(uri){\n  return new Promise((resolve, reject) => {\n    //this is to ignore the existence of requirejs amd\n    var savedexports, savedmodule;\n    if (typeof exports !== 'undefined') savedexports = exports;\n    else exports = {}\n    if (typeof module !== 'undefined') savedmodule = module;\n    else module = {}\n\n    var tag = document.createElement('script');\n    tag.src = uri;\n    tag.async = true;\n    tag.onload = () => {\n        exports = savedexports;\n        module = savedmodule;\n        resolve();\n    };\n  var firstScriptTag = document.getElementsByTagName('script')[0];\n  firstScriptTag.parentNode.insertBefore(tag, firstScriptTag);\n});\n};\n\nif(typeof $3Dmolpromise === 'undefined') {\n$3Dmolpromise = null;\n  $3Dmolpromise = loadScriptAsync('https://cdnjs.cloudflare.com/ajax/libs/3Dmol/2.4.2/3Dmol-min.js');\n}\n\nvar viewer_17420583202099125 = null;\nvar warn = document.getElementById(\"3dmolwarning_17420583202099125\");\nif(warn) {\n    warn.parentNode.removeChild(warn);\n}\n$3Dmolpromise.then(function() {\nviewer_17420583202099125 = $3Dmol.createViewer(document.getElementById(\"3dmolviewer_17420583202099125\"),{backgroundColor:\"white\"});\nviewer_17420583202099125.zoomTo();\n\tviewer_17420583202099125.addModel(\"\\n     RDKit          3D\\n\\n 13 13  0  0  0  0  0  0  0  0999 V2000\\n   -1.6476    0.2789    0.1072 C   0  0  0  0  0  0  0  0  0  0  0  0\\n   -0.7969    1.3582   -0.0264 C   0  0  0  0  0  0  0  0  0  0  0  0\\n    0.5695    1.1959   -0.1197 C   0  0  0  0  0  0  0  0  0  0  0  0\\n    1.0815   -0.0829   -0.0768 C   0  0  0  0  0  0  0  0  0  0  0  0\\n    0.2631   -1.1919    0.0562 C   0  0  0  0  0  0  0  0  0  0  0  0\\n   -1.0945   -0.9814    0.1458 C   0  0  0  0  0  0  0  0  0  0  0  0\\n    2.4373   -0.2447   -0.1694 O   0  0  0  0  0  0  0  0  0  0  0  0\\n   -2.7301    0.3859    0.1826 H   0  0  0  0  0  0  0  0  0  0  0  0\\n   -1.1987    2.3718   -0.0607 H   0  0  0  0  0  0  0  0  0  0  0  0\\n    1.2350    2.0379   -0.2240 H   0  0  0  0  0  0  0  0  0  0  0  0\\n    0.7064   -2.1992    0.0870 H   0  0  0  0  0  0  0  0  0  0  0  0\\n   -1.7795   -1.8212    0.2515 H   0  0  0  0  0  0  0  0  0  0  0  0\\n    2.9543   -1.1072   -0.1534 H   0  0  0  0  0  0  0  0  0  0  0  0\\n  1  2  2  0\\n  2  3  1  0\\n  3  4  2  0\\n  4  5  1  0\\n  5  6  2  0\\n  4  7  1  0\\n  6  1  1  0\\n  1  8  1  0\\n  2  9  1  0\\n  3 10  1  0\\n  5 11  1  0\\n  6 12  1  0\\n  7 13  1  0\\nM  END\\n\",\"mol\");\n\tviewer_17420583202099125.setStyle({\"stick\": {}, \"sphere\": {\"radius\": 0.3}});\n\tviewer_17420583202099125.zoomTo();\nviewer_17420583202099125.render();\n});\n</script>",
            "text/html": [
              "<div id=\"3dmolviewer_17420583202099125\"  style=\"position: relative; width: 400px; height: 400px;\">\n",
              "        <p id=\"3dmolwarning_17420583202099125\" style=\"background-color:#ffcccc;color:black\">3Dmol.js failed to load for some reason.  Please check your browser console for error messages.<br></p>\n",
              "        </div>\n",
              "<script>\n",
              "\n",
              "var loadScriptAsync = function(uri){\n",
              "  return new Promise((resolve, reject) => {\n",
              "    //this is to ignore the existence of requirejs amd\n",
              "    var savedexports, savedmodule;\n",
              "    if (typeof exports !== 'undefined') savedexports = exports;\n",
              "    else exports = {}\n",
              "    if (typeof module !== 'undefined') savedmodule = module;\n",
              "    else module = {}\n",
              "\n",
              "    var tag = document.createElement('script');\n",
              "    tag.src = uri;\n",
              "    tag.async = true;\n",
              "    tag.onload = () => {\n",
              "        exports = savedexports;\n",
              "        module = savedmodule;\n",
              "        resolve();\n",
              "    };\n",
              "  var firstScriptTag = document.getElementsByTagName('script')[0];\n",
              "  firstScriptTag.parentNode.insertBefore(tag, firstScriptTag);\n",
              "});\n",
              "};\n",
              "\n",
              "if(typeof $3Dmolpromise === 'undefined') {\n",
              "$3Dmolpromise = null;\n",
              "  $3Dmolpromise = loadScriptAsync('https://cdnjs.cloudflare.com/ajax/libs/3Dmol/2.4.2/3Dmol-min.js');\n",
              "}\n",
              "\n",
              "var viewer_17420583202099125 = null;\n",
              "var warn = document.getElementById(\"3dmolwarning_17420583202099125\");\n",
              "if(warn) {\n",
              "    warn.parentNode.removeChild(warn);\n",
              "}\n",
              "$3Dmolpromise.then(function() {\n",
              "viewer_17420583202099125 = $3Dmol.createViewer(document.getElementById(\"3dmolviewer_17420583202099125\"),{backgroundColor:\"white\"});\n",
              "viewer_17420583202099125.zoomTo();\n",
              "\tviewer_17420583202099125.addModel(\"\\n     RDKit          3D\\n\\n 13 13  0  0  0  0  0  0  0  0999 V2000\\n   -1.6476    0.2789    0.1072 C   0  0  0  0  0  0  0  0  0  0  0  0\\n   -0.7969    1.3582   -0.0264 C   0  0  0  0  0  0  0  0  0  0  0  0\\n    0.5695    1.1959   -0.1197 C   0  0  0  0  0  0  0  0  0  0  0  0\\n    1.0815   -0.0829   -0.0768 C   0  0  0  0  0  0  0  0  0  0  0  0\\n    0.2631   -1.1919    0.0562 C   0  0  0  0  0  0  0  0  0  0  0  0\\n   -1.0945   -0.9814    0.1458 C   0  0  0  0  0  0  0  0  0  0  0  0\\n    2.4373   -0.2447   -0.1694 O   0  0  0  0  0  0  0  0  0  0  0  0\\n   -2.7301    0.3859    0.1826 H   0  0  0  0  0  0  0  0  0  0  0  0\\n   -1.1987    2.3718   -0.0607 H   0  0  0  0  0  0  0  0  0  0  0  0\\n    1.2350    2.0379   -0.2240 H   0  0  0  0  0  0  0  0  0  0  0  0\\n    0.7064   -2.1992    0.0870 H   0  0  0  0  0  0  0  0  0  0  0  0\\n   -1.7795   -1.8212    0.2515 H   0  0  0  0  0  0  0  0  0  0  0  0\\n    2.9543   -1.1072   -0.1534 H   0  0  0  0  0  0  0  0  0  0  0  0\\n  1  2  2  0\\n  2  3  1  0\\n  3  4  2  0\\n  4  5  1  0\\n  5  6  2  0\\n  4  7  1  0\\n  6  1  1  0\\n  1  8  1  0\\n  2  9  1  0\\n  3 10  1  0\\n  5 11  1  0\\n  6 12  1  0\\n  7 13  1  0\\nM  END\\n\",\"mol\");\n",
              "\tviewer_17420583202099125.setStyle({\"stick\": {}, \"sphere\": {\"radius\": 0.3}});\n",
              "\tviewer_17420583202099125.zoomTo();\n",
              "viewer_17420583202099125.render();\n",
              "});\n",
              "</script>"
            ]
          },
          "metadata": {}
        },
        {
          "output_type": "stream",
          "name": "stdout",
          "text": [
            "\n",
            "🔬 กรอกสูตรเคมี SMILES (หรือ 'exit' เพื่อออก): EXIT\n",
            "👋 ขอบคุณที่ใช้โปรแกรม!\n"
          ]
        }
      ],
      "source": [
        "import py3Dmol\n",
        "import pandas as pd\n",
        "from rdkit import Chem\n",
        "from rdkit.Chem import AllChem\n",
        "\n",
        "# โหลดฐานข้อมูลสารเคมีจากไฟล์ CSV\n",
        "file_path = \"lab_chemicals_database_2.csv\"\n",
        "df = pd.read_csv(file_path)\n",
        "\n",
        "def get_chemical_info(smiles):\n",
        "    \"ดึงข้อมูลสารเคมีจากฐานข้อมูล CSV\"\n",
        "    chem_info = df[df[\"SMILES\"] == smiles]\n",
        "    if not chem_info.empty:\n",
        "        return chem_info.iloc[0].to_dict()\n",
        "    return None\n",
        "\n",
        "def show_3D_molecule(smiles):\n",
        "    \"แสดงโครงสร้างโมเลกุลสามมิติ\"\n",
        "    mol = Chem.MolFromSmiles(smiles)\n",
        "    if mol:\n",
        "        mol_h = Chem.AddHs(mol)\n",
        "        AllChem.EmbedMolecule(mol_h, AllChem.ETKDG())\n",
        "        mol_block = Chem.MolToMolBlock(mol_h)\n",
        "        viewer = py3Dmol.view(width=400, height=400)\n",
        "        viewer.addModel(mol_block, \"mol\")\n",
        "        viewer.setStyle({\"stick\": {}, \"sphere\": {\"radius\": 0.3}})\n",
        "        viewer.zoomTo()\n",
        "        viewer.show()\n",
        "    else:\n",
        "        print(\"❌ ไม่สามารถแสดงโครงสร้าง 3D ได้\")\n",
        "\n",
        "def check_disposal(smiles):\n",
        "    \"ตรวจสอบว่าสารควรทิ้งลงอ่างหรือไม่\"\n",
        "    info = get_chemical_info(smiles)\n",
        "    if not info:\n",
        "        print(\"⚠️ ไม่มีข้อมูลของสารนี้ในฐานข้อมูล!\")\n",
        "        return\n",
        "\n",
        "    name = info[\"Name\"]\n",
        "    solubility = info[\"WaterSolubility\"]\n",
        "    pKa = info[\"pKa\"]\n",
        "    waste_category = info[\"WasteCategory\"]\n",
        "    disposal_method = info[\"DisposalMethod\"]\n",
        "\n",
        "    print(f\"🔬 ชื่อสาร: {name}\")\n",
        "    print(f\"💧 การละลายน้ำ: {solubility} g/L\")\n",
        "    print(f\"⚖️ ค่า pKa: {pKa}\")\n",
        "    print(f\"🗑️ ประเภทของเสีย: {waste_category}\")\n",
        "    print(f\"⚠️ วิธีการกำจัด: {disposal_method}\")\n",
        "\n",
        "    if disposal_method.startswith(\"Non-hazardous chemicals\") or disposal_method.startswith(\"Can be disposed of in the drain\"):\n",
        "        print(\"✅ สามารถกำจัดสารนี้ได้ตามขั้นตอนที่เหมาะสม\")\n",
        "    else:\n",
        "        print(\"🛑 ห้ามทิ้งสารนี้ลงอ่างล้างอุปกรณ์!\")\n",
        "        print(\"💡 โปรดปฏิบัติตามแนวทางการกำจัดของเสียอันตรายอย่างถูกต้อง\")\n",
        "\n",
        "# รับข้อมูลจากผู้ใช้\n",
        "while True:\n",
        "    smiles_input = input(\"\\n🔬 กรอกสูตรเคมี SMILES (หรือ 'exit' เพื่อออก): \").strip()\n",
        "    if smiles_input.lower() == \"exit\":\n",
        "        print(\"👋 ขอบคุณที่ใช้โปรแกรม!\")\n",
        "        break\n",
        "    elif smiles_input:\n",
        "        check_disposal(smiles_input)\n",
        "        show_3D_molecule(smiles_input)\n",
        "    else:\n",
        "        print(\"⚠️ กรุณากรอกสูตรเคมีที่ถูกต้อง\")"
      ]
    }
  ],
  "metadata": {
    "colab": {
      "provenance": []
    },
    "kernelspec": {
      "display_name": "Python 3",
      "name": "python3"
    },
    "language_info": {
      "name": "python"
    }
  },
  "nbformat": 4,
  "nbformat_minor": 0
}